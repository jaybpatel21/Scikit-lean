{
  "nbformat": 4,
  "nbformat_minor": 0,
  "metadata": {
    "colab": {
      "provenance": []
    },
    "kernelspec": {
      "name": "python3",
      "display_name": "Python 3"
    },
    "language_info": {
      "name": "python"
    }
  },
  "cells": [
    {
      "cell_type": "code",
      "execution_count": null,
      "metadata": {
        "colab": {
          "base_uri": "https://localhost:8080/",
          "height": 128
        },
        "id": "IiCFgprJas7X",
        "outputId": "8678fbeb-57c1-496e-cfce-450464910aea"
      },
      "outputs": [
        {
          "output_type": "display_data",
          "data": {
            "text/plain": [
              "<IPython.core.display.HTML object>"
            ],
            "text/html": [
              "\n",
              "     <input type=\"file\" id=\"files-4c76e746-da88-4628-a63f-9ae728efe67d\" name=\"files[]\" multiple disabled\n",
              "        style=\"border:none\" />\n",
              "     <output id=\"result-4c76e746-da88-4628-a63f-9ae728efe67d\">\n",
              "      Upload widget is only available when the cell has been executed in the\n",
              "      current browser session. Please rerun this cell to enable.\n",
              "      </output>\n",
              "      <script>// Copyright 2017 Google LLC\n",
              "//\n",
              "// Licensed under the Apache License, Version 2.0 (the \"License\");\n",
              "// you may not use this file except in compliance with the License.\n",
              "// You may obtain a copy of the License at\n",
              "//\n",
              "//      http://www.apache.org/licenses/LICENSE-2.0\n",
              "//\n",
              "// Unless required by applicable law or agreed to in writing, software\n",
              "// distributed under the License is distributed on an \"AS IS\" BASIS,\n",
              "// WITHOUT WARRANTIES OR CONDITIONS OF ANY KIND, either express or implied.\n",
              "// See the License for the specific language governing permissions and\n",
              "// limitations under the License.\n",
              "\n",
              "/**\n",
              " * @fileoverview Helpers for google.colab Python module.\n",
              " */\n",
              "(function(scope) {\n",
              "function span(text, styleAttributes = {}) {\n",
              "  const element = document.createElement('span');\n",
              "  element.textContent = text;\n",
              "  for (const key of Object.keys(styleAttributes)) {\n",
              "    element.style[key] = styleAttributes[key];\n",
              "  }\n",
              "  return element;\n",
              "}\n",
              "\n",
              "// Max number of bytes which will be uploaded at a time.\n",
              "const MAX_PAYLOAD_SIZE = 100 * 1024;\n",
              "\n",
              "function _uploadFiles(inputId, outputId) {\n",
              "  const steps = uploadFilesStep(inputId, outputId);\n",
              "  const outputElement = document.getElementById(outputId);\n",
              "  // Cache steps on the outputElement to make it available for the next call\n",
              "  // to uploadFilesContinue from Python.\n",
              "  outputElement.steps = steps;\n",
              "\n",
              "  return _uploadFilesContinue(outputId);\n",
              "}\n",
              "\n",
              "// This is roughly an async generator (not supported in the browser yet),\n",
              "// where there are multiple asynchronous steps and the Python side is going\n",
              "// to poll for completion of each step.\n",
              "// This uses a Promise to block the python side on completion of each step,\n",
              "// then passes the result of the previous step as the input to the next step.\n",
              "function _uploadFilesContinue(outputId) {\n",
              "  const outputElement = document.getElementById(outputId);\n",
              "  const steps = outputElement.steps;\n",
              "\n",
              "  const next = steps.next(outputElement.lastPromiseValue);\n",
              "  return Promise.resolve(next.value.promise).then((value) => {\n",
              "    // Cache the last promise value to make it available to the next\n",
              "    // step of the generator.\n",
              "    outputElement.lastPromiseValue = value;\n",
              "    return next.value.response;\n",
              "  });\n",
              "}\n",
              "\n",
              "/**\n",
              " * Generator function which is called between each async step of the upload\n",
              " * process.\n",
              " * @param {string} inputId Element ID of the input file picker element.\n",
              " * @param {string} outputId Element ID of the output display.\n",
              " * @return {!Iterable<!Object>} Iterable of next steps.\n",
              " */\n",
              "function* uploadFilesStep(inputId, outputId) {\n",
              "  const inputElement = document.getElementById(inputId);\n",
              "  inputElement.disabled = false;\n",
              "\n",
              "  const outputElement = document.getElementById(outputId);\n",
              "  outputElement.innerHTML = '';\n",
              "\n",
              "  const pickedPromise = new Promise((resolve) => {\n",
              "    inputElement.addEventListener('change', (e) => {\n",
              "      resolve(e.target.files);\n",
              "    });\n",
              "  });\n",
              "\n",
              "  const cancel = document.createElement('button');\n",
              "  inputElement.parentElement.appendChild(cancel);\n",
              "  cancel.textContent = 'Cancel upload';\n",
              "  const cancelPromise = new Promise((resolve) => {\n",
              "    cancel.onclick = () => {\n",
              "      resolve(null);\n",
              "    };\n",
              "  });\n",
              "\n",
              "  // Wait for the user to pick the files.\n",
              "  const files = yield {\n",
              "    promise: Promise.race([pickedPromise, cancelPromise]),\n",
              "    response: {\n",
              "      action: 'starting',\n",
              "    }\n",
              "  };\n",
              "\n",
              "  cancel.remove();\n",
              "\n",
              "  // Disable the input element since further picks are not allowed.\n",
              "  inputElement.disabled = true;\n",
              "\n",
              "  if (!files) {\n",
              "    return {\n",
              "      response: {\n",
              "        action: 'complete',\n",
              "      }\n",
              "    };\n",
              "  }\n",
              "\n",
              "  for (const file of files) {\n",
              "    const li = document.createElement('li');\n",
              "    li.append(span(file.name, {fontWeight: 'bold'}));\n",
              "    li.append(span(\n",
              "        `(${file.type || 'n/a'}) - ${file.size} bytes, ` +\n",
              "        `last modified: ${\n",
              "            file.lastModifiedDate ? file.lastModifiedDate.toLocaleDateString() :\n",
              "                                    'n/a'} - `));\n",
              "    const percent = span('0% done');\n",
              "    li.appendChild(percent);\n",
              "\n",
              "    outputElement.appendChild(li);\n",
              "\n",
              "    const fileDataPromise = new Promise((resolve) => {\n",
              "      const reader = new FileReader();\n",
              "      reader.onload = (e) => {\n",
              "        resolve(e.target.result);\n",
              "      };\n",
              "      reader.readAsArrayBuffer(file);\n",
              "    });\n",
              "    // Wait for the data to be ready.\n",
              "    let fileData = yield {\n",
              "      promise: fileDataPromise,\n",
              "      response: {\n",
              "        action: 'continue',\n",
              "      }\n",
              "    };\n",
              "\n",
              "    // Use a chunked sending to avoid message size limits. See b/62115660.\n",
              "    let position = 0;\n",
              "    do {\n",
              "      const length = Math.min(fileData.byteLength - position, MAX_PAYLOAD_SIZE);\n",
              "      const chunk = new Uint8Array(fileData, position, length);\n",
              "      position += length;\n",
              "\n",
              "      const base64 = btoa(String.fromCharCode.apply(null, chunk));\n",
              "      yield {\n",
              "        response: {\n",
              "          action: 'append',\n",
              "          file: file.name,\n",
              "          data: base64,\n",
              "        },\n",
              "      };\n",
              "\n",
              "      let percentDone = fileData.byteLength === 0 ?\n",
              "          100 :\n",
              "          Math.round((position / fileData.byteLength) * 100);\n",
              "      percent.textContent = `${percentDone}% done`;\n",
              "\n",
              "    } while (position < fileData.byteLength);\n",
              "  }\n",
              "\n",
              "  // All done.\n",
              "  yield {\n",
              "    response: {\n",
              "      action: 'complete',\n",
              "    }\n",
              "  };\n",
              "}\n",
              "\n",
              "scope.google = scope.google || {};\n",
              "scope.google.colab = scope.google.colab || {};\n",
              "scope.google.colab._files = {\n",
              "  _uploadFiles,\n",
              "  _uploadFilesContinue,\n",
              "};\n",
              "})(self);\n",
              "</script> "
            ]
          },
          "metadata": {}
        },
        {
          "output_type": "stream",
          "name": "stdout",
          "text": [
            "Saving car-sales-extended-missing-data.csv to car-sales-extended-missing-data.csv\n"
          ]
        },
        {
          "output_type": "execute_result",
          "data": {
            "text/plain": [
              "{'car-sales-extended-missing-data.csv': b'Make,Colour,Odometer (KM),Doors,Price\\nHonda,White,35431.0,4.0,15323.0\\nBMW,Blue,192714.0,5.0,19943.0\\nHonda,White,84714.0,4.0,28343.0\\nToyota,White,154365.0,4.0,13434.0\\nNissan,Blue,181577.0,3.0,14043.0\\nHonda,Red,42652.0,4.0,23883.0\\nToyota,Blue,163453.0,4.0,8473.0\\nHonda,White,,4.0,20306.0\\n,White,130538.0,4.0,9374.0\\nHonda,Blue,51029.0,4.0,26683.0\\nNissan,White,167421.0,4.0,16259.0\\nNissan,Green,17119.0,4.0,6160.0\\nNissan,White,102303.0,4.0,16909.0\\n,White,134181.0,4.0,11121.0\\nHonda,Blue,199833.0,4.0,18946.0\\nToyota,Blue,205592.0,4.0,16290.0\\nToyota,Red,96742.0,4.0,34465.0\\nBMW,White,194189.0,5.0,17177.0\\nNissan,White,67991.0,3.0,9109.0\\nNissan,Blue,215820.0,4.0,6010.0\\nToyota,,124844.0,4.0,24130.0\\nHonda,,30615.0,4.0,29653.0\\nToyota,White,148744.0,4.0,22489.0\\nHonda,Green,130075.0,4.0,21242.0\\nHonda,Blue,172718.0,4.0,14274.0\\nHonda,Blue,125819.0,4.0,15686.0\\nHonda,White,180390.0,4.0,13344.0\\nHonda,Green,82783.0,4.0,10984.0\\nHonda,White,56687.0,4.0,6135.0\\nToyota,White,112004.0,4.0,13586.0\\nNissan,Blue,34024.0,4.0,23929.0\\nToyota,White,108569.0,,6866.0\\nNissan,White,203795.0,4.0,9330.0\\nNissan,Green,153554.0,3.0,9780.0\\nHonda,Blue,71949.0,4.0,17516.0\\nHonda,Blue,191622.0,4.0,8738.0\\nNissan,Blue,38186.0,4.0,23438.0\\nNissan,White,,4.0,15131.0\\nNissan,Blue,146430.0,3.0,9224.0\\nToyota,Green,109868.0,4.0,6574.0\\n,White,177894.0,4.0,9229.0\\nToyota,Blue,189209.0,4.0,7100.0\\nHonda,Black,200490.0,4.0,6337.0\\nToyota,Blue,141617.0,4.0,19085.0\\nToyota,Blue,213893.0,4.0,5743.0\\nNissan,Blue,231057.0,4.0,5925.0\\nToyota,White,100938.0,4.0,25196.0\\nToyota,Blue,243969.0,,16138.0\\nNissan,White,107096.0,3.0,6075.0\\nToyota,Black,86333.0,4.0,9928.0\\nToyota,Red,184878.0,4.0,7445.0\\nHonda,White,161068.0,,13698.0\\nToyota,Blue,77646.0,4.0,17422.0\\nToyota,Blue,246817.0,4.0,8269.0\\n,White,109384.0,4.0,9918.0\\nBMW,White,79937.0,5.0,48686.0\\nHonda,White,82039.0,4.0,15662.0\\nBMW,Red,162176.0,5.0,19186.0\\nToyota,,97375.0,4.0,11479.0\\nToyota,Blue,230908.0,4.0,12883.0\\nBMW,Red,208124.0,5.0,24668.0\\nHonda,Black,16933.0,4.0,12172.0\\nHonda,Green,57198.0,4.0,25068.0\\nHonda,Green,47019.0,4.0,20370.0\\nToyota,White,170085.0,4.0,5383.0\\nBMW,White,178796.0,5.0,18396.0\\nToyota,Blue,223390.0,4.0,9648.0\\nToyota,Black,93054.0,4.0,6652.0\\nToyota,Blue,42459.0,4.0,6386.0\\nBMW,White,37513.0,5.0,32379.0\\nNissan,White,123121.0,4.0,22436.0\\nToyota,,204213.0,4.0,6860.0\\nHonda,White,,4.0,5648.0\\n,Red,227262.0,4.0,12001.0\\nToyota,Blue,191232.0,4.0,18355.0\\nToyota,Blue,156478.0,,20424.0\\nToyota,Blue,140465.0,4.0,15154.0\\n,White,126669.0,4.0,18484.0\\nToyota,Blue,238425.0,4.0,6502.0\\nHonda,Blue,186146.0,4.0,18310.0\\nHonda,Black,149879.0,4.0,8200.0\\nToyota,Blue,34097.0,4.0,20142.0\\nNissan,Blue,180021.0,3.0,13199.0\\nToyota,Blue,248447.0,4.0,5708.0\\nToyota,Green,61651.0,4.0,13430.0\\nNissan,Blue,24219.0,3.0,10283.0\\nNissan,Blue,,4.0,3300.0\\nHonda,,108415.0,4.0,20936.0\\nNissan,Red,61892.0,,18160.0\\n,Blue,90249.0,4.0,35988.0\\nNissan,White,197844.0,4.0,5776.0\\nToyota,White,53765.0,4.0,18595.0\\nHonda,White,115183.0,4.0,6481.0\\nHonda,White,130783.0,4.0,6283.0\\nHonda,Green,130076.0,4.0,6762.0\\nHonda,Blue,143707.0,4.0,16337.0\\nToyota,Blue,29856.0,4.0,11392.0\\nToyota,Black,133433.0,4.0,16519.0\\nToyota,Red,147455.0,4.0,22296.0\\nHonda,,48069.0,4.0,12196.0\\nHonda,Blue,146233.0,4.0,14202.0\\nToyota,White,224657.0,4.0,13250.0\\nHonda,,150582.0,,7404.0\\nHonda,White,195787.0,4.0,5316.0\\nHonda,White,71329.0,4.0,10125.0\\nHonda,Blue,229206.0,4.0,13614.0\\nToyota,,218803.0,4.0,13283.0\\nHonda,White,184869.0,4.0,11584.0\\nNissan,Blue,129769.0,3.0,15617.0\\nHonda,Blue,219217.0,4.0,4747.0\\nToyota,White,221050.0,4.0,6391.0\\nNissan,White,82726.0,4.0,17802.0\\nNissan,White,72122.0,4.0,22943.0\\nNissan,Blue,43149.0,4.0,19502.0\\nNissan,White,24077.0,4.0,15541.0\\nToyota,Black,20714.0,4.0,30407.0\\nToyota,Black,26979.0,4.0,35432.0\\nNissan,White,223889.0,4.0,10091.0\\nNissan,Blue,166938.0,4.0,11485.0\\nBMW,White,18394.0,5.0,\\nNissan,White,212081.0,3.0,11192.0\\nNissan,,206073.0,,3944.0\\n,Blue,174008.0,4.0,19000.0\\n,White,138274.0,4.0,7994.0\\nNissan,Black,67364.0,,15604.0\\n,Blue,83784.0,4.0,11648.0\\nToyota,White,71805.0,4.0,35600.0\\nBMW,Red,35807.0,5.0,17596.0\\nNissan,White,175777.0,4.0,13427.0\\nToyota,White,,4.0,35358.0\\nNissan,,18994.0,4.0,7813.0\\nToyota,Red,29689.0,4.0,8743.0\\nToyota,White,109013.0,4.0,10628.0\\nHonda,Green,125802.0,4.0,4754.0\\nToyota,White,22788.0,4.0,6784.0\\nHonda,Blue,43981.0,4.0,17584.0\\nToyota,White,132055.0,4.0,10582.0\\nHonda,Blue,31677.0,4.0,21754.0\\nToyota,Red,133195.0,4.0,14795.0\\nHonda,Blue,137233.0,4.0,8809.0\\nNissan,Blue,179666.0,4.0,19258.0\\nToyota,White,,4.0,34133.0\\nHonda,White,21393.0,4.0,20490.0\\nNissan,Blue,41554.0,4.0,31536.0\\nBMW,Blue,,5.0,30412.0\\nNissan,White,123923.0,4.0,14986.0\\nBMW,White,148949.0,3.0,23074.0\\nToyota,Blue,103909.0,4.0,4566.0\\nToyota,White,50604.0,4.0,10038.0\\nToyota,Green,168432.0,4.0,20497.0\\nNissan,White,129188.0,4.0,8071.0\\nHonda,Red,223416.0,4.0,10707.0\\nToyota,White,66538.0,4.0,\\nNissan,Green,149042.0,3.0,10835.0\\nNissan,White,149347.0,3.0,5332.0\\nBMW,White,39267.0,5.0,19106.0\\n,White,150826.0,4.0,12392.0\\nToyota,Black,147540.0,4.0,20155.0\\nToyota,Green,218482.0,4.0,10198.0\\nHonda,White,202855.0,4.0,8260.0\\nHonda,,213793.0,4.0,12402.0\\nBMW,Blue,86805.0,5.0,34110.0\\nHonda,White,100527.0,4.0,22616.0\\nHonda,Blue,37678.0,4.0,6361.0\\nNissan,White,215169.0,4.0,14793.0\\nNissan,Blue,211249.0,4.0,15767.0\\nHonda,Blue,96389.0,4.0,7861.0\\nHonda,Blue,50417.0,4.0,25847.0\\nNissan,Blue,178405.0,,8693.0\\nNissan,Blue,163423.0,4.0,7193.0\\nToyota,Blue,63975.0,4.0,21851.0\\nToyota,White,97036.0,4.0,\\nHonda,Blue,54380.0,4.0,20282.0\\nNissan,Black,240536.0,4.0,3247.0\\nToyota,White,188755.0,4.0,17980.0\\nToyota,Blue,51155.0,4.0,15960.0\\nToyota,Blue,94916.0,4.0,\\nToyota,Blue,38544.0,4.0,34286.0\\nHonda,White,,4.0,10076.0\\nBMW,Black,158339.0,5.0,23287.0\\nToyota,Red,33400.0,4.0,12398.0\\nNissan,White,118470.0,3.0,20075.0\\nToyota,Blue,89501.0,4.0,12218.0\\nToyota,White,87594.0,4.0,20100.0\\nNissan,Green,32754.0,4.0,13146.0\\nNissan,Red,191810.0,3.0,14189.0\\nHonda,Black,61749.0,4.0,9290.0\\nToyota,Blue,237190.0,4.0,7800.0\\nHonda,White,166028.0,4.0,13056.0\\nBMW,,126441.0,5.0,39738.0\\nToyota,Green,58118.0,4.0,6848.0\\nHonda,,76343.0,4.0,7097.0\\nToyota,White,188338.0,4.0,13106.0\\nToyota,Black,40285.0,4.0,7846.0\\nHonda,White,74192.0,4.0,8706.0\\nToyota,Green,172401.0,,5454.0\\nHonda,Blue,78153.0,4.0,10316.0\\nToyota,Green,146940.0,4.0,25133.0\\nNissan,White,193874.0,4.0,10596.0\\nHonda,Blue,184320.0,4.0,6978.0\\n,White,66461.0,3.0,25873.0\\nHonda,Red,95243.0,4.0,13559.0\\nHonda,Blue,84719.0,4.0,26402.0\\nToyota,Blue,99761.0,4.0,10547.0\\nNissan,Red,150563.0,4.0,16115.0\\nToyota,Blue,154576.0,4.0,12553.0\\nHonda,White,211862.0,4.0,12476.0\\nNissan,Black,125251.0,4.0,18306.0\\nToyota,Blue,90856.0,4.0,33077.0\\nHonda,White,,4.0,22746.0\\nToyota,Black,24764.0,4.0,8856.0\\nHonda,White,43437.0,,28013.0\\nHonda,White,25729.0,4.0,9155.0\\nHonda,Green,238825.0,4.0,9530.0\\nBMW,,206446.0,5.0,19892.0\\nBMW,White,,5.0,38128.0\\nHonda,Blue,42324.0,4.0,12531.0\\nToyota,White,183368.0,4.0,18198.0\\nNissan,Blue,141962.0,4.0,5595.0\\nToyota,Green,214179.0,4.0,12872.0\\nBMW,White,195419.0,5.0,29308.0\\nNissan,Blue,158730.0,3.0,12104.0\\nHonda,White,28791.0,4.0,19052.0\\nToyota,White,117504.0,4.0,25874.0\\nHonda,Blue,63825.0,4.0,23339.0\\nToyota,Green,142598.0,4.0,21830.0\\nToyota,White,88015.0,4.0,22794.0\\nBMW,Blue,79301.0,5.0,35004.0\\nToyota,Red,241987.0,4.0,9734.0\\nBMW,Red,39323.0,5.0,18691.0\\nNissan,White,209259.0,4.0,10823.0\\nHonda,Red,120306.0,4.0,18346.0\\nToyota,Blue,148421.0,4.0,9953.0\\nToyota,Blue,225286.0,4.0,12086.0\\nHonda,White,108206.0,4.0,13208.0\\nToyota,Green,,4.0,19936.0\\nHonda,Blue,61828.0,4.0,27787.0\\nHonda,Blue,173693.0,4.0,11092.0\\nBMW,White,194157.0,,34856.0\\n,Black,224479.0,4.0,10456.0\\nHonda,Blue,232904.0,4.0,7725.0\\nNissan,White,196374.0,4.0,7032.0\\nToyota,White,48184.0,4.0,15095.0\\nNissan,Green,189739.0,4.0,16730.0\\nHonda,Red,164352.0,4.0,14160.0\\nHonda,Blue,26616.0,4.0,9521.0\\nToyota,White,203804.0,4.0,5273.0\\nToyota,White,58054.0,4.0,10180.0\\nBMW,Blue,63321.0,3.0,39021.0\\nBMW,Red,33911.0,5.0,\\nBMW,White,173915.0,5.0,14404.0\\nToyota,Black,217253.0,4.0,16603.0\\nHonda,,,4.0,7076.0\\nToyota,Black,140756.0,4.0,26954.0\\nNissan,Blue,,4.0,18182.0\\nNissan,Blue,124116.0,,5386.0\\n,Blue,65719.0,4.0,\\nNissan,Red,128235.0,4.0,8327.0\\nNissan,Red,157169.0,4.0,\\nHonda,Red,61504.0,4.0,12046.0\\nToyota,White,242084.0,4.0,13111.0\\nToyota,White,61623.0,4.0,35760.0\\nHonda,Green,46085.0,4.0,29681.0\\nHonda,White,67599.0,,10516.0\\nToyota,White,59222.0,4.0,32676.0\\n,White,113250.0,4.0,9675.0\\nHonda,Black,237861.0,4.0,10374.0\\nHonda,Blue,136392.0,4.0,12146.0\\nBMW,White,29534.0,5.0,28414.0\\nNissan,Green,190794.0,3.0,17917.0\\nHonda,,223685.0,4.0,9379.0\\nHonda,White,85975.0,4.0,27640.0\\nBMW,White,23996.0,5.0,48239.0\\nToyota,Blue,85473.0,4.0,22002.0\\nToyota,White,236674.0,4.0,15234.0\\nNissan,Blue,193135.0,3.0,13005.0\\nHonda,,,4.0,28983.0\\nBMW,Blue,245427.0,5.0,17520.0\\nHonda,Blue,106494.0,4.0,17858.0\\nToyota,White,196840.0,4.0,10646.0\\nNissan,White,116279.0,4.0,16179.0\\nBMW,Blue,,3.0,16391.0\\nHonda,White,195829.0,4.0,17866.0\\nToyota,Blue,239004.0,4.0,8566.0\\nHonda,Red,238609.0,4.0,5052.0\\nToyota,Green,44436.0,4.0,17317.0\\nHonda,White,224292.0,4.0,6431.0\\nNissan,White,43540.0,,9263.0\\nHonda,Green,37606.0,4.0,13255.0\\nNissan,White,215130.0,4.0,11768.0\\nToyota,Black,198564.0,4.0,7708.0\\nHonda,Red,11035.0,4.0,10602.0\\nToyota,Red,197616.0,4.0,14089.0\\nHonda,White,171260.0,4.0,18524.0\\nToyota,White,20985.0,4.0,33353.0\\nHonda,White,246079.0,4.0,10872.0\\nNissan,White,133441.0,4.0,21921.0\\nToyota,Red,162665.0,4.0,7042.0\\nToyota,Blue,44815.0,4.0,8460.0\\nToyota,Black,103472.0,,15184.0\\nNissan,White,234161.0,4.0,13200.0\\nToyota,Blue,222542.0,4.0,8834.0\\nHonda,Blue,230570.0,,10676.0\\nToyota,White,134862.0,4.0,12353.0\\nToyota,White,55828.0,4.0,23311.0\\nHonda,White,61163.0,4.0,18375.0\\nHonda,Red,108681.0,4.0,10740.0\\nNissan,Blue,174825.0,3.0,4863.0\\nBMW,,203517.0,5.0,26846.0\\nToyota,Green,180760.0,4.0,10380.0\\nToyota,Blue,52054.0,4.0,10888.0\\nToyota,Blue,118308.0,4.0,20237.0\\nToyota,White,12141.0,4.0,17556.0\\nBMW,,,5.0,32887.0\\nNissan,Blue,104355.0,4.0,18058.0\\nToyota,White,230943.0,4.0,13560.0\\nToyota,White,,4.0,\\nHonda,White,29514.0,4.0,19357.0\\nHonda,Green,94062.0,4.0,27057.0\\nNissan,White,,3.0,23868.0\\n,Blue,179468.0,4.0,7813.0\\nHonda,Red,163045.0,4.0,17035.0\\nToyota,Blue,165301.0,4.0,10429.0\\nToyota,Blue,161572.0,,15088.0\\nToyota,Green,151291.0,4.0,6200.0\\nToyota,Blue,234051.0,,11616.0\\nToyota,Blue,232912.0,4.0,6029.0\\nBMW,Blue,130817.0,3.0,31392.0\\nToyota,Blue,135080.0,4.0,13652.0\\nNissan,Blue,197823.0,3.0,17860.0\\nToyota,,170466.0,4.0,3974.0\\nToyota,White,112292.0,4.0,24834.0\\nNissan,Blue,195494.0,4.0,6460.0\\nNissan,Blue,111015.0,3.0,7252.0\\nHonda,Blue,247869.0,4.0,11982.0\\nToyota,Black,188514.0,4.0,\\nToyota,Green,165225.0,4.0,10841.0\\nHonda,Black,175075.0,4.0,\\nHonda,White,187663.0,4.0,13433.0\\nToyota,Red,65435.0,4.0,24949.0\\nHonda,White,80664.0,4.0,20981.0\\nToyota,White,119439.0,4.0,17340.0\\n,Red,97345.0,4.0,6962.0\\nHonda,,144093.0,4.0,17036.0\\n,Blue,73926.0,4.0,29635.0\\nToyota,White,127161.0,4.0,4871.0\\nHonda,White,40749.0,4.0,25649.0\\nNissan,Blue,192557.0,4.0,6672.0\\nToyota,White,117571.0,4.0,23719.0\\nBMW,White,176864.0,5.0,24938.0\\nHonda,Blue,191658.0,4.0,17597.0\\nToyota,Black,132103.0,,10439.0\\nHonda,Red,47933.0,4.0,10301.0\\nToyota,White,50756.0,4.0,11738.0\\nHonda,Blue,196835.0,4.0,15623.0\\nHonda,Blue,106744.0,4.0,16223.0\\n,Blue,96363.0,4.0,7469.0\\nNissan,White,,4.0,3974.0\\nBMW,Blue,103283.0,3.0,22176.0\\nToyota,White,134415.0,,5125.0\\nHonda,Black,155682.0,,9992.0\\nToyota,White,164093.0,4.0,3893.0\\nToyota,Blue,119745.0,4.0,23902.0\\n,Black,13266.0,4.0,14502.0\\nHonda,White,145850.0,4.0,17876.0\\nNissan,White,24420.0,4.0,14198.0\\nHonda,White,213324.0,4.0,8704.0\\nHonda,White,34822.0,4.0,14613.0\\nToyota,Red,180473.0,4.0,6568.0\\n,White,133069.0,3.0,5008.0\\nHonda,White,71283.0,4.0,7497.0\\n,Blue,23545.0,4.0,13932.0\\nHonda,,178774.0,4.0,15047.0\\nToyota,Blue,112223.0,4.0,4753.0\\nToyota,Blue,198570.0,4.0,17284.0\\nToyota,White,214493.0,4.0,12434.0\\nNissan,White,64362.0,4.0,28993.0\\nHonda,Blue,104304.0,4.0,23017.0\\nNissan,Blue,71527.0,4.0,17961.0\\nHonda,White,220876.0,4.0,\\nNissan,Blue,76412.0,4.0,13492.0\\nToyota,Blue,243255.0,4.0,7378.0\\n,White,103728.0,4.0,7061.0\\nHonda,White,144088.0,4.0,5838.0\\nHonda,Blue,196526.0,4.0,6242.0\\nHonda,,89291.0,4.0,13703.0\\nNissan,Blue,18044.0,3.0,14227.0\\nNissan,White,88908.0,4.0,22155.0\\nHonda,White,24358.0,4.0,26675.0\\nToyota,White,175955.0,4.0,7598.0\\nToyota,White,,4.0,8500.0\\nToyota,White,177571.0,4.0,14318.0\\nToyota,White,227387.0,4.0,3895.0\\nToyota,Blue,,4.0,10834.0\\nBMW,Blue,85320.0,3.0,16517.0\\n,Green,83293.0,4.0,19337.0\\nToyota,White,210123.0,4.0,11731.0\\nToyota,White,193629.0,4.0,12745.0\\nToyota,White,,4.0,\\nBMW,Blue,93792.0,3.0,35264.0\\nToyota,Red,157432.0,4.0,8260.0\\nHonda,Black,226391.0,4.0,15879.0\\nHonda,Blue,152547.0,4.0,10259.0\\nNissan,Blue,10954.0,4.0,30439.0\\nToyota,White,83594.0,,13648.0\\nBMW,Blue,142189.0,3.0,23336.0\\nHonda,Blue,210446.0,4.0,3594.0\\nHonda,Blue,172266.0,4.0,18327.0\\nToyota,Blue,169449.0,4.0,10855.0\\n,White,179727.0,4.0,8980.0\\nToyota,Blue,244204.0,4.0,6121.0\\nBMW,Blue,72575.0,5.0,41294.0\\nBMW,Blue,55789.0,3.0,26677.0\\nToyota,,240937.0,4.0,\\nToyota,Red,193006.0,4.0,5101.0\\nHonda,White,10953.0,4.0,16636.0\\nHonda,White,18933.0,4.0,8014.0\\nHonda,Blue,37625.0,4.0,6241.0\\nNissan,White,176135.0,3.0,17127.0\\nHonda,Blue,234760.0,4.0,11411.0\\n,White,128072.0,4.0,18180.0\\nToyota,Blue,81864.0,4.0,29293.0\\nToyota,White,149466.0,4.0,\\nNissan,Black,141109.0,4.0,\\nToyota,White,189194.0,4.0,4946.0\\nToyota,Blue,42480.0,4.0,19720.0\\nToyota,White,146307.0,4.0,13508.0\\nBMW,Red,131587.0,5.0,15652.0\\nToyota,Blue,98890.0,4.0,26926.0\\nToyota,Blue,188658.0,4.0,14312.0\\nNissan,Blue,45668.0,4.0,13310.0\\nBMW,Green,162607.0,5.0,14074.0\\nToyota,White,149989.0,4.0,5260.0\\nHonda,Red,169579.0,,8089.0\\nToyota,White,36463.0,4.0,16805.0\\nHonda,,28625.0,4.0,8753.0\\nBMW,Red,100060.0,5.0,38060.0\\nNissan,White,43600.0,4.0,10030.0\\nToyota,Blue,52196.0,4.0,11076.0\\nToyota,Black,59249.0,4.0,9108.0\\nHonda,Blue,127589.0,4.0,15610.0\\nNissan,Green,90446.0,4.0,13251.0\\nNissan,Black,59335.0,4.0,28354.0\\nToyota,Blue,71306.0,4.0,23747.0\\nHonda,Blue,73286.0,4.0,19629.0\\nToyota,Black,121160.0,4.0,8380.0\\nNissan,White,63355.0,4.0,22989.0\\nToyota,Blue,98619.0,4.0,33324.0\\nToyota,Blue,200597.0,4.0,13147.0\\nHonda,White,146703.0,4.0,20642.0\\nHonda,Blue,133117.0,,10344.0\\nBMW,Black,192316.0,5.0,25490.0\\nHonda,Blue,127157.0,4.0,7682.0\\n,Blue,157782.0,4.0,12592.0\\nHonda,White,193179.0,,7827.0\\nHonda,White,134949.0,4.0,17622.0\\nToyota,White,216257.0,4.0,17171.0\\nHonda,Red,111727.0,4.0,10101.0\\nToyota,,86480.0,4.0,16319.0\\nToyota,,73360.0,4.0,18653.0\\nHonda,White,164703.0,4.0,12201.0\\nBMW,White,143651.0,5.0,22597.0\\nToyota,Black,58773.0,4.0,20893.0\\nToyota,White,72118.0,4.0,16892.0\\nHonda,White,14700.0,4.0,26973.0\\nToyota,White,117637.0,4.0,17256.0\\nNissan,,129820.0,,6960.0\\nHonda,White,18246.0,4.0,21684.0\\nToyota,White,,4.0,5094.0\\nHonda,White,92883.0,4.0,14931.0\\nToyota,Green,119394.0,4.0,11773.0\\nNissan,Black,178899.0,4.0,5222.0\\nToyota,White,172018.0,4.0,10196.0\\nToyota,Blue,98971.0,4.0,16226.0\\nNissan,,215026.0,4.0,\\nHonda,,33261.0,4.0,28104.0\\nToyota,White,185742.0,4.0,16865.0\\nToyota,Blue,119311.0,4.0,26816.0\\nNissan,Blue,,4.0,9545.0\\nNissan,White,246825.0,3.0,13647.0\\nToyota,Black,225991.0,4.0,\\nToyota,Red,159925.0,4.0,14028.0\\nNissan,White,51004.0,4.0,31633.0\\nToyota,White,216076.0,4.0,12152.0\\nToyota,White,231683.0,4.0,16001.0\\nToyota,Blue,135237.0,4.0,18358.0\\nNissan,White,193389.0,4.0,7443.0\\nToyota,White,143104.0,4.0,4589.0\\nBMW,White,146911.0,3.0,17076.0\\nToyota,White,199985.0,4.0,21007.0\\n,White,,4.0,29616.0\\nToyota,,114202.0,4.0,22505.0\\nToyota,White,66150.0,4.0,25111.0\\nHonda,Blue,42420.0,,7376.0\\nNissan,Blue,111256.0,4.0,10919.0\\nBMW,Black,181572.0,5.0,25763.0\\n,White,186752.0,4.0,7882.0\\nNissan,Red,209976.0,4.0,4200.0\\nHonda,Green,81764.0,4.0,29004.0\\nNissan,White,82429.0,4.0,8979.0\\nHonda,Black,221461.0,4.0,10450.0\\nHonda,White,47712.0,4.0,18029.0\\n,Blue,166897.0,4.0,10278.0\\nToyota,Blue,,4.0,19175.0\\nToyota,Black,222813.0,4.0,\\nToyota,White,107410.0,4.0,24990.0\\nToyota,Blue,14645.0,4.0,21326.0\\nToyota,Blue,67120.0,4.0,\\nNissan,Red,,4.0,17144.0\\nNissan,White,26634.0,4.0,12024.0\\nToyota,,118706.0,4.0,20705.0\\nBMW,Green,209340.0,5.0,29140.0\\nNissan,Blue,38233.0,4.0,23483.0\\nToyota,Blue,,4.0,13213.0\\nNissan,White,152215.0,4.0,16519.0\\nHonda,Blue,30120.0,4.0,6357.0\\nToyota,Red,68125.0,4.0,8105.0\\nToyota,Blue,207048.0,4.0,10663.0\\nHonda,White,126854.0,4.0,12311.0\\nHonda,Red,236800.0,4.0,\\nNissan,Blue,180739.0,4.0,19389.0\\nNissan,Red,196130.0,3.0,13707.0\\nHonda,Green,164493.0,4.0,13866.0\\nHonda,Blue,207344.0,4.0,4941.0\\nNissan,White,228090.0,4.0,16366.0\\nToyota,Blue,180156.0,4.0,14086.0\\nToyota,White,110362.0,4.0,13560.0\\n,White,235294.0,,10597.0\\n,White,43148.0,4.0,29089.0\\nBMW,Blue,69358.0,5.0,47260.0\\nToyota,White,124057.0,4.0,18919.0\\nToyota,Blue,126078.0,4.0,14442.0\\nNissan,Blue,224410.0,4.0,13244.0\\nToyota,Green,221725.0,4.0,6742.0\\nHonda,Blue,,,22042.0\\nToyota,White,35673.0,4.0,35683.0\\nHonda,White,205597.0,4.0,4239.0\\nHonda,Blue,76579.0,4.0,20511.0\\nNissan,White,137477.0,4.0,\\nHonda,White,120283.0,4.0,19376.0\\nHonda,Black,51328.0,4.0,10675.0\\nToyota,Black,218253.0,4.0,13176.0\\nToyota,Blue,39311.0,4.0,17520.0\\nToyota,White,210193.0,4.0,5653.0\\nHonda,Black,27788.0,4.0,18919.0\\n,White,175309.0,,\\nHonda,Black,111097.0,4.0,16072.0\\nHonda,Red,16079.0,4.0,9954.0\\nToyota,Blue,89641.0,4.0,33463.0\\nBMW,Blue,72663.0,5.0,40032.0\\nToyota,Red,86284.0,,22542.0\\nHonda,White,95481.0,4.0,8687.0\\nHonda,White,214405.0,4.0,7982.0\\nHonda,White,52563.0,4.0,26078.0\\nHonda,White,113704.0,4.0,23280.0\\nHonda,Blue,73869.0,4.0,27744.0\\nHonda,White,95579.0,4.0,11135.0\\nHonda,Black,45152.0,4.0,22825.0\\nHonda,Green,194035.0,4.0,11648.0\\nToyota,Blue,220679.0,4.0,15508.0\\nHonda,,102032.0,4.0,19036.0\\nToyota,Green,58938.0,4.0,6602.0\\nToyota,White,,4.0,14021.0\\nToyota,Blue,193276.0,4.0,10522.0\\nNissan,Blue,189182.0,,18834.0\\nToyota,White,197393.0,4.0,20879.0\\nHonda,White,42844.0,4.0,29145.0\\nToyota,White,122266.0,4.0,17664.0\\nToyota,Red,240017.0,4.0,13728.0\\nToyota,Green,88598.0,4.0,19373.0\\nToyota,Blue,216563.0,,7903.0\\nHonda,Black,123924.0,4.0,21236.0\\nToyota,White,185455.0,4.0,16220.0\\nNissan,Green,163080.0,4.0,7973.0\\n,White,53531.0,4.0,7802.0\\nHonda,Blue,142403.0,4.0,6803.0\\nNissan,White,127386.0,4.0,8461.0\\nToyota,White,142633.0,4.0,10402.0\\nToyota,Blue,215955.0,4.0,7994.0\\nNissan,Blue,46842.0,4.0,28655.0\\nNissan,Red,,4.0,13127.0\\nHonda,Black,222786.0,4.0,\\nHonda,White,130494.0,4.0,5513.0\\nToyota,White,,4.0,20521.0\\nBMW,White,96224.0,,45720.0\\nHonda,Blue,176566.0,4.0,13257.0\\nToyota,Blue,171373.0,4.0,9529.0\\nToyota,Green,241507.0,,7724.0\\nHonda,Red,86427.0,4.0,30854.0\\nToyota,White,210863.0,4.0,12112.0\\nToyota,White,216647.0,4.0,10207.0\\nBMW,Blue,35837.0,3.0,33198.0\\nHonda,Blue,166595.0,,5138.0\\nHonda,Blue,68223.0,4.0,27530.0\\nHonda,Blue,223005.0,4.0,14431.0\\nHonda,Black,61120.0,4.0,30374.0\\nHonda,Blue,83357.0,4.0,22263.0\\nNissan,White,20315.0,4.0,8137.0\\nToyota,Blue,152042.0,4.0,20590.0\\nHonda,Black,213154.0,4.0,8192.0\\nNissan,White,24741.0,4.0,20840.0\\nToyota,Blue,247601.0,4.0,11162.0\\nHonda,Blue,40912.0,4.0,26885.0\\nNissan,Black,218697.0,4.0,5157.0\\nToyota,White,26655.0,4.0,11749.0\\nHonda,White,42137.0,4.0,\\nToyota,Black,71463.0,4.0,31206.0\\nToyota,Blue,149270.0,,21953.0\\nHonda,Blue,66613.0,4.0,20450.0\\nToyota,White,48674.0,4.0,\\nHonda,White,123898.0,4.0,20622.0\\nToyota,Black,136271.0,4.0,20242.0\\nHonda,Black,119033.0,4.0,16774.0\\nHonda,Blue,50475.0,4.0,8164.0\\nHonda,,42379.0,4.0,25382.0\\nHonda,Black,147889.0,4.0,8916.0\\nNissan,Green,76610.0,3.0,16320.0\\nNissan,Blue,249860.0,4.0,14524.0\\nHonda,Red,113538.0,4.0,\\nHonda,White,152212.0,4.0,10580.0\\nBMW,White,26531.0,5.0,19408.0\\nToyota,White,137628.0,4.0,18142.0\\nToyota,Blue,33461.0,4.0,\\nHonda,White,178134.0,4.0,8870.0\\nToyota,White,74919.0,4.0,7183.0\\nHonda,Green,165101.0,4.0,10377.0\\nNissan,White,235952.0,4.0,13272.0\\nNissan,Black,77474.0,4.0,22924.0\\nHonda,White,121416.0,,17690.0\\nHonda,Blue,196507.0,4.0,17065.0\\nToyota,Blue,95993.0,4.0,28073.0\\nNissan,Green,87701.0,4.0,29656.0\\nBMW,White,192673.0,5.0,23377.0\\nNissan,White,205155.0,3.0,10287.0\\nBMW,White,242935.0,3.0,14767.0\\nHonda,Red,101835.0,4.0,16110.0\\nToyota,Black,26798.0,4.0,28276.0\\nToyota,Red,88571.0,4.0,21431.0\\nToyota,Red,49807.0,4.0,25775.0\\nNissan,White,71103.0,4.0,6884.0\\nHonda,White,237209.0,4.0,10494.0\\nToyota,Green,37703.0,4.0,\\nToyota,White,26191.0,4.0,15372.0\\nToyota,Blue,213344.0,4.0,\\nHonda,Blue,28561.0,4.0,14204.0\\nToyota,Blue,,4.0,10024.0\\nHonda,Blue,120448.0,4.0,12392.0\\nNissan,White,19265.0,4.0,21451.0\\nHonda,White,40134.0,4.0,16273.0\\nToyota,Black,86696.0,4.0,30320.0\\nToyota,Blue,23637.0,4.0,\\nNissan,Red,166895.0,4.0,10061.0\\n,White,19482.0,3.0,31208.0\\n,Blue,40774.0,5.0,26834.0\\nToyota,White,202435.0,4.0,16867.0\\nToyota,White,72725.0,4.0,25735.0\\nToyota,Blue,63501.0,4.0,15260.0\\nToyota,Black,228063.0,4.0,16308.0\\nNissan,Red,143204.0,3.0,16719.0\\nToyota,Green,213077.0,4.0,\\nBMW,Blue,209466.0,5.0,\\nBMW,,33320.0,3.0,27888.0\\nHonda,White,236432.0,4.0,\\nHonda,,41846.0,4.0,10241.0\\nBMW,Red,38775.0,5.0,\\nToyota,Blue,226217.0,4.0,15413.0\\nHonda,White,211154.0,4.0,9402.0\\nToyota,White,248416.0,4.0,14717.0\\nNissan,Red,,4.0,15154.0\\nNissan,Green,233054.0,4.0,8930.0\\n,White,138294.0,4.0,11626.0\\nToyota,Blue,84787.0,4.0,28414.0\\nToyota,White,176172.0,4.0,18923.0\\nNissan,Black,170777.0,4.0,9649.0\\nBMW,White,235774.0,,29401.0\\nHonda,Blue,161140.0,4.0,11364.0\\nToyota,Blue,189781.0,4.0,10352.0\\nHonda,White,117907.0,4.0,16908.0\\nToyota,Green,213861.0,4.0,3751.0\\nToyota,Red,248634.0,,9919.0\\nHonda,Black,38327.0,4.0,23728.0\\nHonda,,225600.0,4.0,\\nBMW,Black,54141.0,5.0,37518.0\\nHonda,Blue,163297.0,4.0,13263.0\\nHonda,White,24180.0,4.0,9710.0\\nToyota,Black,98409.0,4.0,32863.0\\nToyota,,228619.0,4.0,12058.0\\nHonda,Black,232910.0,4.0,6690.0\\nNissan,Blue,28390.0,3.0,6504.0\\n,White,152006.0,3.0,4165.0\\nNissan,Green,107112.0,3.0,16345.0\\n,Black,189001.0,4.0,5843.0\\nNissan,White,48730.0,4.0,11210.0\\nNissan,White,192747.0,4.0,6750.0\\nToyota,Blue,177356.0,4.0,15827.0\\nToyota,White,146824.0,4.0,16285.0\\nHonda,White,64574.0,4.0,17654.0\\nToyota,White,244404.0,4.0,13334.0\\nNissan,White,66199.0,4.0,27557.0\\nToyota,,199315.0,4.0,19453.0\\nHonda,,203447.0,4.0,3509.0\\nHonda,Blue,158301.0,4.0,15297.0\\nHonda,White,82518.0,4.0,22587.0\\nHonda,Blue,224900.0,4.0,9104.0\\nHonda,White,56523.0,4.0,6207.0\\nToyota,Red,98854.0,4.0,29876.0\\nHonda,Black,151414.0,4.0,12186.0\\nNissan,White,222917.0,4.0,15673.0\\nHonda,Blue,67875.0,,17152.0\\nBMW,Blue,134103.0,5.0,36109.0\\nNissan,White,177272.0,4.0,18248.0\\nHonda,Black,88002.0,4.0,20219.0\\nToyota,Black,112622.0,4.0,15778.0\\nToyota,Red,185940.0,4.0,9685.0\\nHonda,Red,172705.0,4.0,\\nToyota,White,,4.0,23844.0\\nToyota,White,124205.0,4.0,6917.0\\nNissan,White,87997.0,4.0,28596.0\\nHonda,White,148238.0,4.0,11303.0\\nToyota,White,10217.0,4.0,22883.0\\nBMW,White,57905.0,3.0,50868.0\\nHonda,White,70154.0,4.0,27852.0\\nBMW,Blue,165375.0,5.0,26540.0\\nToyota,White,223727.0,4.0,12901.0\\nToyota,White,81656.0,4.0,14282.0\\nToyota,Red,189278.0,,9222.0\\nBMW,White,227845.0,5.0,11298.0\\nHonda,White,13116.0,4.0,16464.0\\nToyota,White,69222.0,4.0,29363.0\\nHonda,Blue,197664.0,4.0,12950.0\\nToyota,Black,146848.0,,7286.0\\nHonda,Blue,76252.0,4.0,9500.0\\nHonda,White,121791.0,4.0,6920.0\\n,Blue,77978.0,4.0,18199.0\\nToyota,White,235792.0,4.0,10726.0\\nToyota,Black,197498.0,4.0,6956.0\\nToyota,White,129188.0,4.0,17609.0\\nToyota,Blue,223875.0,4.0,12650.0\\nNissan,Blue,96785.0,4.0,22949.0\\nHonda,White,187380.0,4.0,4022.0\\nBMW,Black,11049.0,3.0,19500.0\\nToyota,Blue,76416.0,4.0,21653.0\\nBMW,White,228678.0,5.0,18557.0\\nHonda,Red,47404.0,4.0,23554.0\\nToyota,Green,172493.0,4.0,14698.0\\nHonda,White,11119.0,4.0,20845.0\\nBMW,Black,201190.0,3.0,16705.0\\nToyota,,192890.0,4.0,20130.0\\nToyota,Black,72287.0,4.0,13934.0\\nToyota,Black,,4.0,8513.0\\nHonda,Green,208651.0,4.0,13722.0\\nNissan,Blue,195105.0,3.0,7823.0\\nToyota,Blue,240627.0,4.0,5285.0\\nBMW,Blue,,3.0,30020.0\\nBMW,White,168854.0,5.0,23240.0\\n,Blue,60499.0,5.0,11708.0\\nToyota,White,46848.0,4.0,17795.0\\nNissan,Blue,233501.0,4.0,2796.0\\nToyota,Black,97042.0,4.0,8203.0\\nNissan,Red,113987.0,4.0,4968.0\\nNissan,Green,223555.0,4.0,11854.0\\nNissan,Blue,63686.0,4.0,14432.0\\nToyota,White,147230.0,4.0,16645.0\\nHonda,Blue,21146.0,4.0,23064.0\\nToyota,Blue,166679.0,4.0,18222.0\\nHonda,Red,108794.0,4.0,15962.0\\nToyota,Blue,229110.0,4.0,17258.0\\nNissan,Red,,4.0,21679.0\\nHonda,Blue,217068.0,4.0,4358.0\\nHonda,,133270.0,4.0,21612.0\\nToyota,Green,202862.0,4.0,17635.0\\nHonda,White,136340.0,4.0,19271.0\\nToyota,Green,209457.0,,14590.0\\nToyota,Black,224986.0,4.0,11233.0\\nToyota,Green,201964.0,4.0,13637.0\\nHonda,Blue,63800.0,4.0,26308.0\\nToyota,Blue,61337.0,4.0,28830.0\\nHonda,Blue,190532.0,4.0,8479.0\\nToyota,White,161870.0,4.0,7157.0\\nBMW,Blue,212644.0,5.0,19545.0\\nToyota,White,30334.0,4.0,35687.0\\nHonda,Black,158337.0,4.0,4733.0\\nNissan,,219137.0,4.0,5865.0\\nToyota,Black,140913.0,4.0,15967.0\\nHonda,Blue,195239.0,4.0,14944.0\\nHonda,White,178351.0,4.0,14331.0\\nBMW,Green,152243.0,5.0,20108.0\\nToyota,White,245977.0,4.0,11036.0\\nToyota,White,32748.0,4.0,30323.0\\nToyota,Green,60344.0,4.0,\\nHonda,Blue,244434.0,4.0,8253.0\\nNissan,White,198923.0,4.0,5135.0\\nToyota,White,128294.0,4.0,13608.0\\nBMW,Blue,179255.0,5.0,33040.0\\nToyota,White,22257.0,4.0,27868.0\\nToyota,White,85800.0,4.0,20503.0\\nToyota,Red,190211.0,4.0,4454.0\\nToyota,Blue,103202.0,4.0,13394.0\\n,Blue,48777.0,4.0,7910.0\\nToyota,White,18812.0,4.0,22643.0\\nHonda,White,29541.0,4.0,8690.0\\nHonda,Red,123224.0,4.0,16488.0\\nHonda,White,192655.0,4.0,12609.0\\nToyota,Blue,219420.0,4.0,8952.0\\nToyota,White,185146.0,4.0,4566.0\\nToyota,,77677.0,,\\nNissan,White,211504.0,4.0,14084.0\\nToyota,Green,88519.0,4.0,18640.0\\nToyota,White,78123.0,4.0,24629.0\\nToyota,White,201039.0,4.0,16879.0\\nNissan,Green,229929.0,4.0,9803.0\\nBMW,White,83309.0,5.0,45509.0\\nToyota,White,148473.0,4.0,23386.0\\nToyota,White,10247.0,4.0,32566.0\\nBMW,Blue,50363.0,5.0,30104.0\\nHonda,Blue,187630.0,4.0,15810.0\\nNissan,Black,192250.0,4.0,10962.0\\nToyota,White,95725.0,4.0,12523.0\\nHonda,White,136279.0,4.0,5933.0\\nToyota,White,239554.0,4.0,10747.0\\nHonda,White,100884.0,4.0,5145.0\\nNissan,Red,124112.0,4.0,7217.0\\nNissan,White,114699.0,4.0,16016.0\\nToyota,Blue,198983.0,4.0,18440.0\\nToyota,Black,201753.0,4.0,15097.0\\nNissan,White,195056.0,4.0,11140.0\\nHonda,White,30080.0,4.0,18429.0\\nHonda,Blue,171303.0,4.0,10821.0\\nToyota,Red,220026.0,4.0,9554.0\\nHonda,White,,4.0,10130.0\\nToyota,Blue,190406.0,4.0,\\nBMW,Red,175134.0,,29487.0\\nToyota,White,100107.0,4.0,9878.0\\nBMW,Green,117440.0,5.0,17322.0\\nToyota,Blue,188036.0,4.0,\\nToyota,Blue,34521.0,4.0,30191.0\\nNissan,Blue,69954.0,4.0,20938.0\\nBMW,Red,149413.0,5.0,36864.0\\nNissan,Green,235589.0,4.0,5905.0\\nToyota,Blue,125939.0,4.0,10349.0\\nHonda,White,248301.0,4.0,14026.0\\nHonda,Blue,248899.0,4.0,5834.0\\nNissan,Blue,209485.0,4.0,13474.0\\nToyota,White,62712.0,4.0,24342.0\\nBMW,Green,112156.0,5.0,12904.0\\nToyota,Green,243177.0,4.0,3125.0\\nToyota,White,93593.0,4.0,29638.0\\nHonda,Green,,4.0,28599.0\\nToyota,Blue,48684.0,4.0,33817.0\\nToyota,Red,107799.0,4.0,13417.0\\nToyota,White,112103.0,4.0,7898.0\\nToyota,White,74984.0,4.0,16766.0\\nBMW,Blue,129040.0,5.0,32353.0\\nNissan,White,166735.0,4.0,7350.0\\nNissan,White,129883.0,4.0,23945.0\\nHonda,White,245327.0,4.0,8226.0\\nToyota,,51788.0,4.0,6480.0\\nBMW,Blue,31277.0,5.0,18139.0\\nNissan,White,43191.0,4.0,\\nNissan,Blue,191024.0,3.0,9450.0\\n,,61876.0,4.0,5922.0\\nBMW,White,69066.0,5.0,22784.0\\nHonda,Blue,40635.0,4.0,12402.0\\nToyota,Red,13050.0,4.0,9074.0\\nHonda,White,,4.0,26813.0\\nToyota,Green,110078.0,4.0,13650.0\\nBMW,White,118286.0,5.0,14145.0\\nBMW,White,212920.0,3.0,11733.0\\n,White,45513.0,5.0,38984.0\\nHonda,Black,231825.0,4.0,12988.0\\nToyota,White,112968.0,4.0,18962.0\\nHonda,,118609.0,4.0,5465.0\\nToyota,White,100657.0,4.0,\\nToyota,Red,210870.0,4.0,16652.0\\nToyota,White,218519.0,4.0,\\nHonda,Red,211735.0,,\\nHonda,White,124924.0,4.0,19832.0\\nToyota,White,14497.0,4.0,19838.0\\nToyota,White,225284.0,4.0,12408.0\\nHonda,Blue,236760.0,4.0,12362.0\\nHonda,Blue,200219.0,4.0,4606.0\\n,Black,27139.0,4.0,22921.0\\nBMW,Black,204746.0,5.0,24494.0\\nToyota,Green,106475.0,4.0,24242.0\\nBMW,White,152410.0,5.0,21580.0\\nToyota,White,63832.0,4.0,6698.0\\nToyota,White,73869.0,4.0,19572.0\\nNissan,White,49310.0,4.0,27146.0\\nBMW,Blue,244095.0,5.0,25780.0\\nToyota,Blue,229055.0,4.0,10865.0\\nToyota,Black,144944.0,4.0,22873.0\\nNissan,Black,10148.0,4.0,27337.0\\nToyota,Blue,181466.0,,14388.0\\nToyota,White,248815.0,4.0,9785.0\\nHonda,White,56534.0,4.0,6676.0\\nNissan,White,48277.0,4.0,11406.0\\nToyota,Green,,4.0,9073.0\\nToyota,White,28809.0,4.0,22139.0\\nToyota,Blue,237448.0,4.0,16202.0\\nToyota,Blue,23241.0,4.0,14203.0\\nNissan,White,135032.0,3.0,6214.0\\nNissan,White,213449.0,3.0,7425.0\\nBMW,White,84327.0,5.0,38233.0\\nToyota,White,104722.0,4.0,21006.0\\nToyota,White,196225.0,4.0,19812.0\\nHonda,Blue,,4.0,23840.0\\nBMW,White,16274.0,5.0,52458.0\\nBMW,Red,,5.0,9362.0\\nNissan,White,,3.0,15861.0\\nBMW,White,232696.0,5.0,26940.0\\nNissan,White,40598.0,4.0,24122.0\\nNissan,White,83345.0,4.0,6476.0\\nNissan,Blue,234146.0,3.0,12522.0\\nNissan,Black,239908.0,4.0,6567.0\\nHonda,White,,4.0,11182.0\\nBMW,Blue,152772.0,3.0,14588.0\\nHonda,Black,134825.0,4.0,17315.0\\nToyota,White,66633.0,4.0,\\nHonda,Blue,228279.0,4.0,13519.0\\nHonda,Black,231659.0,4.0,9826.0\\nNissan,White,19134.0,4.0,23439.0\\nToyota,Blue,149927.0,4.0,8321.0\\nHonda,Red,98523.0,4.0,29959.0\\nHonda,White,161712.0,4.0,13546.0\\nNissan,Red,113278.0,3.0,15666.0\\n,Green,,4.0,11454.0\\nHonda,White,101311.0,4.0,5421.0\\nNissan,White,161699.0,4.0,5594.0\\nBMW,Red,176660.0,5.0,14134.0\\nHonda,White,31418.0,4.0,22816.0\\nNissan,White,143520.0,4.0,7433.0\\nToyota,White,149655.0,4.0,14650.0\\nToyota,White,122453.0,4.0,24178.0\\nToyota,White,21083.0,4.0,35333.0\\nHonda,White,219635.0,4.0,12216.0\\nNissan,Green,203302.0,4.0,5548.0\\nHonda,Blue,178863.0,4.0,5168.0\\nToyota,Red,148518.0,4.0,25104.0\\nHonda,Black,143649.0,,7874.0\\nNissan,Red,153074.0,4.0,17487.0\\nHonda,White,53474.0,4.0,\\nToyota,Red,166046.0,4.0,7955.0\\nNissan,Blue,228192.0,4.0,12641.0\\nToyota,Blue,221076.0,4.0,8786.0\\nToyota,White,88224.0,4.0,24304.0\\nBMW,Red,156064.0,5.0,17105.0\\nToyota,Green,132714.0,4.0,17076.0\\nToyota,Blue,17609.0,4.0,\\nToyota,Black,43171.0,4.0,24354.0\\nNissan,Blue,57558.0,3.0,16622.0\\nHonda,White,52414.0,4.0,11548.0\\nHonda,White,186495.0,4.0,14849.0\\nNissan,White,136022.0,4.0,\\nBMW,White,102773.0,5.0,29551.0\\nToyota,Blue,92777.0,4.0,32509.0\\nToyota,,103682.0,4.0,10261.0\\nToyota,Black,90508.0,4.0,33758.0\\nNissan,,39639.0,3.0,12315.0\\nHonda,Blue,26824.0,4.0,28422.0\\nNissan,White,186786.0,4.0,\\nHonda,White,,4.0,13070.0\\nToyota,White,239760.0,4.0,4896.0\\nHonda,Blue,96308.0,4.0,15010.0\\nToyota,White,107043.0,4.0,7126.0\\nToyota,Blue,39753.0,4.0,34231.0\\nHonda,Blue,168261.0,4.0,14691.0\\nHonda,Black,94941.0,4.0,27598.0\\nBMW,Green,26839.0,5.0,15224.0\\nNissan,White,227278.0,4.0,\\nBMW,Blue,45207.0,5.0,35254.0\\nToyota,Blue,186309.0,4.0,16416.0\\nBMW,Black,178164.0,3.0,24891.0\\nHonda,White,,4.0,17939.0\\nHonda,Green,237627.0,4.0,8430.0\\n,White,155383.0,4.0,14345.0\\nHonda,,22409.0,4.0,10429.0\\nToyota,Blue,95317.0,4.0,7435.0\\nToyota,Blue,128016.0,4.0,16835.0\\nBMW,White,85739.0,5.0,48419.0\\nToyota,Black,17975.0,4.0,17940.0\\nToyota,Blue,230314.0,4.0,6720.0\\nToyota,White,129454.0,4.0,6446.0\\nHonda,White,238172.0,4.0,13273.0\\nToyota,Red,,4.0,14671.0\\nNissan,Blue,157235.0,4.0,4196.0\\n,Blue,216250.0,4.0,9691.0\\nHonda,White,71934.0,4.0,26882.0\\nHonda,White,215235.0,4.0,3825.0\\nNissan,Black,248736.0,4.0,8358.0\\nToyota,Red,41735.0,4.0,13928.0\\nToyota,White,173408.0,4.0,8082.0\\nHonda,Blue,235985.0,4.0,9184.0\\nHonda,Green,54721.0,4.0,27419.0\\nNissan,Black,162523.0,4.0,4696.0\\nBMW,Blue,163322.0,3.0,31666.0\\nToyota,Black,35820.0,4.0,32042.0\\n,White,155144.0,3.0,5716.0\\nNissan,Blue,66604.0,4.0,31570.0\\nHonda,White,215883.0,4.0,4001.0\\nToyota,Blue,248360.0,4.0,12732.0\\n'}"
            ]
          },
          "metadata": {},
          "execution_count": 1
        }
      ],
      "source": [
        "from google.colab import files\n",
        "files.upload()"
      ]
    },
    {
      "cell_type": "code",
      "source": [
        "import pandas as pd\n",
        "car_sales_missing=pd.read_csv(\"/content/car-sales-extended-missing-data.csv\")\n",
        "car_sales_missing.head(10)"
      ],
      "metadata": {
        "id": "O-ttPUsIbHk5"
      },
      "execution_count": null,
      "outputs": []
    },
    {
      "cell_type": "code",
      "source": [
        "car_sales_missing.isna().sum()"
      ],
      "metadata": {
        "colab": {
          "base_uri": "https://localhost:8080/"
        },
        "id": "XdkOxYaib0vN",
        "outputId": "220d79f4-7b3f-459b-c58d-97b51ea6739f"
      },
      "execution_count": null,
      "outputs": [
        {
          "output_type": "execute_result",
          "data": {
            "text/plain": [
              "Make             47\n",
              "Colour           46\n",
              "Odometer (KM)    48\n",
              "Doors            47\n",
              "Price             0\n",
              "dtype: int64"
            ]
          },
          "metadata": {},
          "execution_count": 7
        }
      ]
    },
    {
      "cell_type": "code",
      "source": [
        "car_sales_missing.dropna(subset=[\"Price\"],inplace=True)"
      ],
      "metadata": {
        "id": "wdTXv1a2b-1j"
      },
      "execution_count": null,
      "outputs": []
    },
    {
      "cell_type": "code",
      "source": [
        "x = car_sales_missing.drop(\"Price\", axis=1)\n",
        "y = car_sales_missing[\"Price\"]"
      ],
      "metadata": {
        "id": "TI27ALKCcZYR"
      },
      "execution_count": null,
      "outputs": []
    },
    {
      "cell_type": "code",
      "source": [
        "from sklearn.impute import SimpleImputer\n",
        "from sklearn.compose import ColumnTransformer\n",
        "\n",
        "cat_imputer = SimpleImputer(strategy=\"constant\", fill_value=\"missing\")\n",
        "door_imputer = SimpleImputer(strategy=\"constant\", fill_value=4)\n",
        "num_imputer = SimpleImputer(strategy=\"mean\")\n",
        "\n",
        "cat_features = [\"Make\", \"Colour\"]\n",
        "door_feature= [\"Doors\"]\n",
        "num_features=[\"Odometer (KM)\"]\n",
        "\n",
        "imputer = ColumnTransformer([\n",
        "    (\"cat_imputer\", cat_imputer, cat_features),\n",
        "    (\"door_imputer\", door_imputer, door_feature),\n",
        "    (\"num_imputer\", num_imputer, num_features)\n",
        "])\n",
        "\n",
        "filled_x=imputer.fit_transform(x)\n",
        "filled_x"
      ],
      "metadata": {
        "colab": {
          "base_uri": "https://localhost:8080/"
        },
        "id": "WYKqQcEVcr2q",
        "outputId": "3f29ceb2-30be-4bd7-ba63-de7207d776b9"
      },
      "execution_count": null,
      "outputs": [
        {
          "output_type": "execute_result",
          "data": {
            "text/plain": [
              "array([['Honda', 'White', 4.0, 35431.0],\n",
              "       ['BMW', 'Blue', 5.0, 192714.0],\n",
              "       ['Honda', 'White', 4.0, 84714.0],\n",
              "       ...,\n",
              "       ['Nissan', 'Blue', 4.0, 66604.0],\n",
              "       ['Honda', 'White', 4.0, 215883.0],\n",
              "       ['Toyota', 'Blue', 4.0, 248360.0]], dtype=object)"
            ]
          },
          "metadata": {},
          "execution_count": 12
        }
      ]
    },
    {
      "cell_type": "code",
      "source": [
        "car_sales_filled = pd.DataFrame(filled_x,\n",
        "                                columns=[\"Make\",\"Colour\", \"Doors\", \"Odometer (KM)\"])\n",
        "car_sales_filled.head()"
      ],
      "metadata": {
        "id": "lwrEGEMY5go1"
      },
      "execution_count": null,
      "outputs": []
    },
    {
      "cell_type": "code",
      "source": [
        "car_sales_filled.isna().sum()"
      ],
      "metadata": {
        "colab": {
          "base_uri": "https://localhost:8080/"
        },
        "id": "uu6-v7oT6dI3",
        "outputId": "1d9a8c5e-311b-45a7-f2a3-9bb55cf00fc8"
      },
      "execution_count": null,
      "outputs": [
        {
          "output_type": "execute_result",
          "data": {
            "text/plain": [
              "Make             0\n",
              "Colour           0\n",
              "Doors            0\n",
              "Odometer (KM)    0\n",
              "dtype: int64"
            ]
          },
          "metadata": {},
          "execution_count": 16
        }
      ]
    },
    {
      "cell_type": "code",
      "source": [
        "from sklearn.preprocessing import OneHotEncoder\n",
        "from sklearn.compose import ColumnTransformer\n",
        "\n",
        "categorical_features=[\"Make\", \"Colour\", \"Doors\"]\n",
        "one_hot=OneHotEncoder()\n",
        "transformer=ColumnTransformer([(\"one_hot\",\n",
        "                                 one_hot,\n",
        "                                 categorical_features)],\n",
        "                                 remainder=\"passthrough\")\n",
        "\n",
        "transformed_x=transformer.fit_transform(car_sales_filled)\n",
        "transformed_x"
      ],
      "metadata": {
        "colab": {
          "base_uri": "https://localhost:8080/"
        },
        "id": "Uta6_ZufACD8",
        "outputId": "c30b7c8e-689a-43ef-f8cc-9ba9106cbe99"
      },
      "execution_count": null,
      "outputs": [
        {
          "output_type": "execute_result",
          "data": {
            "text/plain": [
              "<950x15 sparse matrix of type '<class 'numpy.float64'>'\n",
              "\twith 3800 stored elements in Compressed Sparse Row format>"
            ]
          },
          "metadata": {},
          "execution_count": 19
        }
      ]
    },
    {
      "cell_type": "code",
      "source": [
        "import numpy as np\n",
        "np.random.seed(42)\n",
        "\n",
        "from sklearn.ensemble import RandomForestRegressor\n",
        "from sklearn.model_selection import train_test_split\n",
        "\n",
        "x_train, x_test, y_train, y_test = train_test_split(transformed_x,y,test_size=0.2)\n",
        "\n",
        "model=RandomForestRegressor()\n",
        "model.fit(x_train, y_train)\n",
        "model.score(x_test, y_test)"
      ],
      "metadata": {
        "colab": {
          "base_uri": "https://localhost:8080/"
        },
        "id": "TwHAlLUZAIsw",
        "outputId": "62ef7645-1019-4beb-9d27-a11d2d6b0fee"
      },
      "execution_count": null,
      "outputs": [
        {
          "output_type": "execute_result",
          "data": {
            "text/plain": [
              "0.21990196728583944"
            ]
          },
          "metadata": {},
          "execution_count": 22
        }
      ]
    }
  ]
}